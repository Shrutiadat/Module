{
 "cells": [
  {
   "cell_type": "code",
   "execution_count": 1,
   "id": "9275e2f0",
   "metadata": {},
   "outputs": [
    {
     "name": "stdout",
     "output_type": "stream",
     "text": [
      "30\n",
      "None\n",
      "-10\n",
      "None\n"
     ]
    }
   ],
   "source": [
    "import calculator\n",
    "\n",
    "result = calculator.add(10,20)\n",
    "print(result)\n",
    "result = calculator.sub(10,20)\n",
    "print(result)"
   ]
  },
  {
   "cell_type": "code",
   "execution_count": null,
   "id": "e2a5bd36",
   "metadata": {},
   "outputs": [],
   "source": [
    "import calculator2\n",
    "\n",
    "M = calculator2.mult(10,20)\n",
    "print(M)\n",
    "\n",
    "D = calculator2.div(10,20)\n",
    "print(D)"
   ]
  }
 ],
 "metadata": {
  "kernelspec": {
   "display_name": "Python 3 (ipykernel)",
   "language": "python",
   "name": "python3"
  },
  "language_info": {
   "codemirror_mode": {
    "name": "ipython",
    "version": 3
   },
   "file_extension": ".py",
   "mimetype": "text/x-python",
   "name": "python",
   "nbconvert_exporter": "python",
   "pygments_lexer": "ipython3",
   "version": "3.10.12"
  }
 },
 "nbformat": 4,
 "nbformat_minor": 5
}
